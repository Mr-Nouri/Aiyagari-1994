{
 "cells": [
  {
   "cell_type": "code",
   "execution_count": 109,
   "id": "da00482e",
   "metadata": {
    "scrolled": true
   },
   "outputs": [],
   "source": [
    "using  Plots, LinearAlgebra, Optim, DataFrames, StatFiles, Distributions, Roots, Random, Interpolations, Printf, QuantEcon, SpecialFunctions\n"
   ]
  },
  {
   "cell_type": "markdown",
   "id": "0e4c2107",
   "metadata": {},
   "source": [
    "# Markov Chain"
   ]
  },
  {
   "cell_type": "code",
   "execution_count": 2,
   "id": "01cc7187",
   "metadata": {},
   "outputs": [
    {
     "data": {
      "text/plain": [
       "mc_sample_path (generic function with 1 method)"
      ]
     },
     "execution_count": 2,
     "metadata": {},
     "output_type": "execute_result"
    }
   ],
   "source": [
    "function mc_sample_path(P; init = 1, sample_size = 1000)\n",
    "    @assert size(P)[1] == size(P)[2] # square required\n",
    "    N = size(P)[1] # should be square\n",
    "\n",
    "    # create vector of discrete RVs for each row\n",
    "    dists = [Categorical(P[i, :]) for i in 1:N]\n",
    "\n",
    "    # setup the simulation\n",
    "    X = fill(0, sample_size) # allocate memory, or zeros(Int64, sample_size)\n",
    "    X[1] = init # set the initial state\n",
    "\n",
    "    for t in 2:sample_size\n",
    "        dist = dists[X[t-1]] # get discrete RV from last state's transition distribution\n",
    "        X[t] = rand(dist) # draw new value\n",
    "    end\n",
    "    return X\n",
    "end"
   ]
  },
  {
   "cell_type": "code",
   "execution_count": 3,
   "id": "9128f522",
   "metadata": {},
   "outputs": [
    {
     "data": {
      "text/plain": [
       "approx_markov (generic function with 1 method)"
      ]
     },
     "execution_count": 3,
     "metadata": {},
     "output_type": "execute_result"
    }
   ],
   "source": [
    "std_norm_cdf(x::T) where {T <: Real} = 0.5 * erfc(-x/sqrt(2))\n",
    "std_norm_cdf(x::Array{T}) where {T <: Real} = 0.5 .* erfc(-x./sqrt(2))\n",
    "\n",
    "function approx_markov( ρ::Float64, σ::Float64)\n",
    "    N = 7\n",
    "    m = 3\n",
    "    μ = 0\n",
    "    \n",
    "    # Get discretized space\n",
    "    a_bar = m * sqrt(σ^2 / (1 - ρ^2))\n",
    "    y = range(-a_bar, stop=a_bar, length=N)\n",
    "    d = y[2] - y[1]\n",
    "\n",
    "    # Get transition probabilities\n",
    "    Π = zeros(N, N)\n",
    "    for row = 1:N\n",
    "        # Do end points first\n",
    "        Π[row, 1] = std_norm_cdf((y[1] - ρ*y[row] + d/2) / σ)\n",
    "        Π[row, N] = 1 - std_norm_cdf((y[N] - ρ*y[row] - d/2) / σ)\n",
    "\n",
    "        # fill in the middle columns\n",
    "        for col = 2:N-1\n",
    "            Π[row, col] = (std_norm_cdf((y[col] - ρ*y[row] + d/2) / σ) -\n",
    "                           std_norm_cdf((y[col] - ρ*y[row] - d/2) / σ))\n",
    "        end\n",
    "    end\n",
    "\n",
    "\n",
    "    yy = y .+ μ / (1 - ρ) # center process around its mean (wbar / (1 - rho)) in new variable\n",
    "\n",
    "    # renormalize. In some test cases the rows sum to something that is 2e-15\n",
    "    # away from 1.0, which caused problems in the MarkovChain constructor\n",
    "    Π = Π./sum(Π, dims = 2)\n",
    "\n",
    "    MarkovChain(Π, yy)\n",
    "end"
   ]
  },
  {
   "cell_type": "code",
   "execution_count": 4,
   "id": "f508ac4a",
   "metadata": {},
   "outputs": [
    {
     "data": {
      "text/plain": [
       "2×4 Matrix{Tuple}:\n",
       " (0.1, 0.0)   (0.1, 0.1)   (0.11, 0.3)   (0.11, 0.6)\n",
       " (0.21, 0.0)  (0.21, 0.1)  (0.22, 0.29)  (0.23, 0.59)"
      ]
     },
     "execution_count": 4,
     "metadata": {},
     "output_type": "execute_result"
    }
   ],
   "source": [
    "Result = Matrix{Tuple}(undef, 2, 4)\n",
    "for (i,σ) in enumerate([0.1,0.2])\n",
    "    for (j,ρ) in enumerate([0,0.1,0.3,0.6])\n",
    "        mc = approx_markov(ρ, σ)\n",
    "        y = mc_sample_path(mc.p, sample_size = 10^7)\n",
    "        y = exp.(mc.state_values)[y]\n",
    "        ρ_markov = abs(round(cov(y[1:end-1],y[2:end]) / var(y); digits=2) )\n",
    "        σ_markov = round((var(y)*(1-ρ_markov^2))^0.5; digits=2) \n",
    "        Result[i,j] = (σ_markov, ρ_markov)\n",
    "    end\n",
    "end\n",
    "Result"
   ]
  },
  {
   "cell_type": "markdown",
   "id": "f3e376d1",
   "metadata": {},
   "source": [
    "# Bellman iid shocks"
   ]
  },
  {
   "cell_type": "code",
   "execution_count": 5,
   "id": "6ad370a2",
   "metadata": {},
   "outputs": [
    {
     "data": {
      "text/plain": [
       "value_function_iteration (generic function with 1 method)"
      ]
     },
     "execution_count": 5,
     "metadata": {},
     "output_type": "execute_result"
    }
   ],
   "source": [
    "function Belman_Operator(IG, grid_z, β, u, prob, l′,ϕ)\n",
    "    V_function = LinearInterpolation(grid_z,IG, extrapolation_bc=Line())\n",
    "    objectives = (a′ -> u(z-a′) + β * sum( prob .* V_function.( (1 .+ r).*a′ .+ w .* l′ .- (r*ϕ))) for z in grid_z)\n",
    "    results = maximize.(objectives, 1e-10, grid_z) # solver result for each grid point\n",
    "    TV = Optim.maximum.(results) # next W\n",
    "    g = Optim.maximizer.(results)\n",
    "    return TV, g\n",
    "end\n",
    "function value_function_iteration(IG, grid_z, β, u, N, prob, l′,ϕ)\n",
    "    V = IG\n",
    "    for i in 1:N\n",
    "        res = Belman_Operator(V , grid_z, β, u, prob, l′,ϕ)\n",
    "        global TV = res[1]\n",
    "        global g = res[2]\n",
    "    end\n",
    "    a′ = g\n",
    "    return a′\n",
    "    \n",
    "end"
   ]
  },
  {
   "cell_type": "code",
   "execution_count": 6,
   "id": "3624b312",
   "metadata": {},
   "outputs": [
    {
     "data": {
      "text/plain": [
       "DDP (generic function with 1 method)"
      ]
     },
     "execution_count": 6,
     "metadata": {},
     "output_type": "execute_result"
    }
   ],
   "source": [
    "function DDP(R, Q, Grid, IG, β; ϵ=10^-5) # with shocks and without shocks\n",
    "    ns = size(R)[1] # number of shocks\n",
    "    gs = size(R)[2] # grid size\n",
    "    sup = 1\n",
    "    One = ones(gs) # 1 vector\n",
    "    V = repeat(IG.(Grid), 1, ns)' # Value function matrix (Initial guess)\n",
    "    g = zeros(ns,gs)\n",
    "    Vc = copy(V)\n",
    "    while ~(isapprox(sup, 0.0; atol=ϵ, rtol=0))\n",
    "        for i in 1:ns # T_operator for V1 to Vns\n",
    "            V[i,:], Argmax = findmax(R[i,:,:] .+ sum([β*Q[i,j]*One*V[j,:]' for j in 1:ns]), dims=2)\n",
    "            for a in 1:gs\n",
    "                g[i,a] = Argmax[a][2] # Policy function\n",
    "            end\n",
    "        end\n",
    "        sup = sum((V .- Vc).^2)\n",
    "        Vc = copy(V)\n",
    "    end\n",
    "    P = zeros(ns,gs)\n",
    "    for i in 1:ns\n",
    "        for j in 1:gs\n",
    "            P[i,j] = Grid[Int(g[i,j])]\n",
    "        end\n",
    "    end\n",
    "    return P\n",
    "end"
   ]
  },
  {
   "cell_type": "code",
   "execution_count": 7,
   "id": "061ef8b8",
   "metadata": {},
   "outputs": [],
   "source": [
    "μ = 3\n",
    "β = 0.94\n",
    "A = 1.09\n",
    "N = 100\n",
    "α = 0.47\n",
    "δ = 0.09\n",
    "r = 0.03\n",
    "b = 1\n",
    "w = 1\n",
    "ρ = 0.1\n",
    "σ = 0.1\n",
    "\n",
    "grid_min = 0.001\n",
    "grid_max = 10\n",
    "n = 200\n",
    "grid_z = range(grid_min, grid_max, length = n)\n",
    "N = 100\n",
    "ϕ=1\n",
    "ρ = 0.6\n",
    "σ = 0.4\n",
    "result = approx_markov(ρ, σ);\n",
    "prob_min = result.p[1, 1:end]\n",
    "prob_max = result.p[7, 1:end]\n",
    "l′ = exp.(result.state_values)\n",
    "u(c) = log(c)\n",
    "IG = log.(grid_z);\n",
    "policy = value_function_iteration(IG, grid_z, β, u, N, prob_max, l′,ϕ);"
   ]
  },
  {
   "cell_type": "code",
   "execution_count": 8,
   "id": "1d0c2fb8",
   "metadata": {},
   "outputs": [
    {
     "data": {
      "image/png": "[encoded data removed]"
     },
     "execution_count": 8,
     "metadata": {},
     "output_type": "execute_result"
    }
   ],
   "source": [
    "p1 = plot(grid_z, policy, xlabel = \"z\", ylabel = \"a′_hat, c\",labels = \"a′_hat\", c=\"green\", framestyle = :box, fmt = :png, linewidth  = 2)\n",
    "plot!(grid_z, grid_z .- policy,labels = \"c\" ,c=\"black\", framestyle = :box, fmt = :png, linewidth  = 2)\n",
    "plot!(grid_z,  policy .- ϕ ,labels = \"a′\", c=\"red\", framestyle = :box, fmt = :png, linewidth  = 2)\n",
    "plot!(grid_z, grid_z ,labels = false, label=false, c=\"black\", framestyle = :box, fmt = :png, style= :dash , linewidth  = 2)"
   ]
  },
  {
   "cell_type": "code",
   "execution_count": 9,
   "id": "42d60ebf",
   "metadata": {},
   "outputs": [
    {
     "data": {
      "image/png": "[encoded data removed]"
     },
     "execution_count": 9,
     "metadata": {},
     "output_type": "execute_result"
    }
   ],
   "source": [
    "z_max = l′[7] .+ (1+r) .* policy .- r .* ϕ \n",
    "z_min = l′[1] .+ (1+r) .* policy .- r .* ϕ \n",
    "\n",
    "plot(grid_z, z_max, xlabel = \"z\", ylabel = \"z′\",labels = \"l max\", label=false, c=\"green\", framestyle = :box, fmt = :png, linewidth  = 2)\n",
    "plot!(grid_z, z_min, xlabel = \"z\", ylabel = \"z′\", labels = \"l min \", label=false, c=\"red\", framestyle = :box, fmt = :png, linewidth  = 2)\n",
    "plot!(grid_z, grid_z, labels = false, c=\"black\")"
   ]
  },
  {
   "cell_type": "markdown",
   "id": "10aa0ec7",
   "metadata": {},
   "source": [
    "# DDP"
   ]
  },
  {
   "cell_type": "code",
   "execution_count": 10,
   "id": "03355d4a",
   "metadata": {},
   "outputs": [
    {
     "data": {
      "text/plain": [
       "return_function (generic function with 1 method)"
      ]
     },
     "execution_count": 10,
     "metadata": {},
     "output_type": "execute_result"
    }
   ],
   "source": [
    "function return_function(r, μ, w, ϕ, S, Grid)\n",
    "    ns = length(S)\n",
    "    gs = length(Grid)\n",
    "    R = zeros(ns, gs, gs)\n",
    "    Rr(a,s,a_prim) = μ == 1 ? log((1+r)*a + w*s - a_prim) : (((1+r)*a + w*s - a_prim)^(1-μ))/(1-μ)\n",
    "    for i in 1:ns\n",
    "        for j in 1:gs\n",
    "            for k in 1:gs\n",
    "                R[i,j,k] = ((1+r)*Grid[j] + w*S[i] - Grid[k])>=0 ? Rr(Grid[j],S[i],Grid[k]) : -10^9\n",
    "            end\n",
    "        end\n",
    "    end\n",
    "    return R\n",
    "end"
   ]
  },
  {
   "cell_type": "code",
   "execution_count": 11,
   "id": "2d220b3b",
   "metadata": {},
   "outputs": [
    {
     "data": {
      "text/plain": [
       "discrete_prob (generic function with 1 method)"
      ]
     },
     "execution_count": 11,
     "metadata": {},
     "output_type": "execute_result"
    }
   ],
   "source": [
    "function discrete_prob(array)\n",
    "    cumulative_prob = cumsum(array)\n",
    "    rr = rand()\n",
    "    return findall(x->x==(cumulative_prob[cumulative_prob .>= rr][1]), cumulative_prob)[1]\n",
    "end"
   ]
  },
  {
   "cell_type": "markdown",
   "id": "bd00b2b3",
   "metadata": {},
   "source": [
    "# Stationary distribution"
   ]
  },
  {
   "cell_type": "code",
   "execution_count": 12,
   "id": "96e006fd",
   "metadata": {},
   "outputs": [
    {
     "data": {
      "text/plain": [
       "Ea (generic function with 1 method)"
      ]
     },
     "execution_count": 12,
     "metadata": {},
     "output_type": "execute_result"
    }
   ],
   "source": [
    "β = 0.94\n",
    "δ = 0.09\n",
    "α = 0.47\n",
    "μ = 1\n",
    "A = 1.09\n",
    "ϕ = 0\n",
    "N = 200\n",
    "Grid = range(0, 20, N)\n",
    "ns = 7\n",
    "\n",
    "\n",
    "\n",
    "function Policy(r, ρ, σ, μ)\n",
    "    w = A * (1 - α) * (A * α / (r + δ))^(α / (1 - α))\n",
    "    mc = approx_markov(ρ, σ);\n",
    "    S = exp.(mc.state_values)\n",
    "    Q = mc.p\n",
    "    R = return_function(r, μ, w, ϕ, S, Grid)\n",
    "    IG(x) = x\n",
    "    return DDP(R, Q, Grid, IG, β)\n",
    "end\n",
    "\n",
    "\n",
    "\n",
    "function Ea(r, ρ, σ, μ)\n",
    "    m = 0\n",
    "    m′ = 0\n",
    "    N = 10^5\n",
    "    pol = []\n",
    "    mc = approx_markov(ρ, σ);\n",
    "    S = exp.(mc.state_values)\n",
    "    Q = mc.p\n",
    "    for i in 1:ns\n",
    "        push!(pol, LinearInterpolation(Grid, Policy(r, ρ, σ, μ)[i,:]))\n",
    "    end\n",
    "    a_list = zeros(N)\n",
    "    a′_list = zeros(N)\n",
    "    l_list = zeros(N)\n",
    "    l′_list = zeros(N)\n",
    "    l′_list[1:end] = rand(1:ns,N)\n",
    "    a_list[1:end] = Grid[rand(DiscreteUniform(1,length(Grid)), N)]\n",
    "    sup = 1\n",
    "    while ~(isapprox(sup, 0.0; atol=10^-4, rtol=0))\n",
    "        m = mean(a_list)\n",
    "        for i in 1:N\n",
    "            a′_list[i] = pol[Int(l′_list[i])](a_list[i])\n",
    "            l_list[i] = copy(l′_list[i])\n",
    "            l′_list[i] = discrete_prob(Q[Int(l_list[i]),:])\n",
    "            a_list[i] = copy(a′_list[i])\n",
    "        end\n",
    "        m′ = mean(a_list)\n",
    "        sup = abs(m-m′)\n",
    "    end\n",
    "    return m′, a_list\n",
    "end"
   ]
  },
  {
   "cell_type": "code",
   "execution_count": 8,
   "id": "1c6d9000",
   "metadata": {},
   "outputs": [
    {
     "data": {
      "image/png": "[encoded data removed]"
     },
     "execution_count": 8,
     "metadata": {},
     "output_type": "execute_result"
    }
   ],
   "source": [
    "plots = []\n",
    "for μ in 1:3\n",
    "    p = histogram(Ea(0.05, 0.6, 0.2, μ)[2], bins=100, title=\"Asset distribution, μ = $μ\")\n",
    "    push!(plots, p)\n",
    "end\n",
    "plot(plots..., legend=false, framestyle = :box)"
   ]
  },
  {
   "cell_type": "markdown",
   "id": "27cdd52f",
   "metadata": {},
   "source": [
    "# General Equalibrium"
   ]
  },
  {
   "cell_type": "code",
   "execution_count": 13,
   "id": "be28a389",
   "metadata": {},
   "outputs": [
    {
     "data": {
      "text/plain": [
       "GE (generic function with 1 method)"
      ]
     },
     "execution_count": 13,
     "metadata": {},
     "output_type": "execute_result"
    }
   ],
   "source": [
    "# Demabd for capital\n",
    "function rk(k)\n",
    "    A * α * (1 / k)^(1 - α) - δ\n",
    "end\n",
    "\n",
    "\n",
    "function kr(r)\n",
    "    ((r+δ)/(A*α))^(1/(α-1))\n",
    "end\n",
    "\n",
    "# General Equilibrium function\n",
    "# Input: \n",
    "# Serial correlation in earning(ρ), \n",
    "# Coefficient of variation of earnings(σ) and\n",
    "# Relative risk aversion coefficient(μ)\n",
    "# Output:\n",
    "# Net return to capital in equilibrium\n",
    "function GE(ρ, σ, μ)\n",
    "    r1 = 1/β - 1 - 0.000001\n",
    "    ea1 = Ea(r1, ρ, σ, μ)\n",
    "    r2 = rk(ea1)\n",
    "    sup = abs(r2 - r1)\n",
    "    r3 = (r2 + r1)/2\n",
    "    while ~(isapprox(sup, 0.0; atol=10^-3, rtol=0))\n",
    "        ea3 = Ea(r3, ρ, σ, μ)\n",
    "        k3 = kr(r3)\n",
    "        if k3 < ea3\n",
    "            r1 = copy(r3)\n",
    "        else\n",
    "            r2 = copy(r3)\n",
    "        end\n",
    "        sup = abs(r2 - r1)\n",
    "        r3 = (r2 + r1)/2\n",
    "    end\n",
    "    return r3\n",
    "end"
   ]
  },
  {
   "cell_type": "code",
   "execution_count": 125,
   "id": "758fa715",
   "metadata": {},
   "outputs": [
    {
     "data": {
      "text/plain": [
       "0.06165346486020473"
      ]
     },
     "execution_count": 125,
     "metadata": {},
     "output_type": "execute_result"
    }
   ],
   "source": [
    "GE(0.6, 0.4, 1)"
   ]
  },
  {
   "cell_type": "code",
   "execution_count": 9,
   "id": "26f7b39e",
   "metadata": {},
   "outputs": [
    {
     "name": "stdout",
     "output_type": "stream",
     "text": [
      "1346.517369 seconds (11.12 G allocations: 1.437 TiB, 12.56% gc time, 0.00% compilation time)\n"
     ]
    }
   ],
   "source": [
    "Eas1 = []\n",
    "Eas3 = []\n",
    "Eas5 = []\n",
    "ρ = 0.6\n",
    "σ = 0.2\n",
    "@time begin\n",
    "    for rr in range(0.0001, 1/β - 1 - 0.001, 40)\n",
    "        push!(Eas1, Ea(rr, ρ, σ, 1))\n",
    "    end\n",
    "end"
   ]
  },
  {
   "cell_type": "code",
   "execution_count": 10,
   "id": "3e60e51d",
   "metadata": {},
   "outputs": [
    {
     "name": "stdout",
     "output_type": "stream",
     "text": [
      "1855.897160 seconds (17.80 G allocations: 1.877 TiB, 12.03% gc time)\n"
     ]
    }
   ],
   "source": [
    "ρ = 0.6\n",
    "σ = 0.2\n",
    "@time begin\n",
    "    for rr in range(0.0001, 1/β - 1 - 0.001, 40)\n",
    "        push!(Eas3, Ea(rr, ρ, σ, 3))\n",
    "    end\n",
    "end"
   ]
  },
  {
   "cell_type": "code",
   "execution_count": 11,
   "id": "d5274570",
   "metadata": {},
   "outputs": [
    {
     "name": "stdout",
     "output_type": "stream",
     "text": [
      "2073.795573 seconds (20.84 G allocations: 2.036 TiB, 12.07% gc time)\n"
     ]
    }
   ],
   "source": [
    "ρ = 0.6\n",
    "σ = 0.2\n",
    "@time begin\n",
    "    for rr in range(0.0001, 1/β - 1 - 0.001, 40)\n",
    "        push!(Eas5, Ea(rr, ρ, σ, 5))\n",
    "    end\n",
    "end"
   ]
  },
  {
   "cell_type": "code",
   "execution_count": 70,
   "id": "fcefdbac",
   "metadata": {},
   "outputs": [],
   "source": [
    "EA1 = zeros(40)\n",
    "EA3 = zeros(40)\n",
    "EA5 = zeros(40)\n",
    "for i in 1:40\n",
    "    EA1[i] = Eas1[i][1]\n",
    "    EA3[i] = Eas3[i][1]\n",
    "    EA5[i] = Eas5[i][1]\n",
    "end"
   ]
  },
  {
   "cell_type": "code",
   "execution_count": 72,
   "id": "01927e20",
   "metadata": {},
   "outputs": [
    {
     "data": {
      "image/png": "[encoded data removed]"
     },
     "execution_count": 72,
     "metadata": {},
     "output_type": "execute_result"
    }
   ],
   "source": [
    "gr(fmt = :png, size = (900, 500))\n",
    "ρ = 1/β - 1\n",
    "p1 = plot(hcat(EA1, EA3, EA5), range(0.00001, 1/β - 1 - 0.00001, 40), label = [\"μ = 1\" \"μ = 3\" \"μ = 5\"], title = \"Steady-State Determination\", lw = 2, titlefontsize=10, guidefontsize=8, legend_position=:outerbottomright)\n",
    "plot!(p1,[ρ], seriestype=\"hline\", linestyle = :dash, label=\"ρ\" ,lw = 2, titlefontsize=10, guidefontsize=8)\n",
    "plot!(p1, range(EA5[1], EA5[end], 40), rk.(range(EA5[1], EA5[end], 40)), lw = 2, ylim=(0.02,0.1), label = \"Demand capital\")\n",
    "xlabel!(\"Ea(r)\")\n",
    "ylabel!(\"r\")"
   ]
  },
  {
   "cell_type": "markdown",
   "id": "c1852e93",
   "metadata": {},
   "source": [
    "# Result"
   ]
  },
  {
   "cell_type": "code",
   "execution_count": 14,
   "id": "8799632c",
   "metadata": {},
   "outputs": [
    {
     "data": {
      "text/plain": [
       "Outputs (generic function with 1 method)"
      ]
     },
     "execution_count": 14,
     "metadata": {},
     "output_type": "execute_result"
    }
   ],
   "source": [
    "function Outputs(r, ρ, σ, μ)\n",
    "    m = 0\n",
    "    m′ = 0\n",
    "    N = 10^5\n",
    "    pol = []\n",
    "    mc = approx_markov(ρ, σ);\n",
    "    S = exp.(mc.state_values)\n",
    "    Q = mc.p\n",
    "    for i in 1:ns\n",
    "        push!(pol, LinearInterpolation(Grid, Policy(r, ρ, σ, μ)[i,:]))\n",
    "    end\n",
    "    c_list = zeros(N)\n",
    "    ni_list = zeros(N)\n",
    "    gi_list = zeros(N)\n",
    "    gs_list = zeros(N)\n",
    "    a_list = zeros(N)\n",
    "    a′_list = zeros(N)\n",
    "    l_list = zeros(N)\n",
    "    l′_list = zeros(N)\n",
    "    l′_list[1:end] = rand(1:ns,N)\n",
    "    a_list[1:end] = Grid[rand(DiscreteUniform(1,length(Grid)), N)]\n",
    "    sup = 1\n",
    "    while ~(isapprox(sup, 0.0; atol=10^-4, rtol=0))\n",
    "        m = mean(a_list)\n",
    "        for i in 1:N\n",
    "            a′_list[i] = pol[Int(l′_list[i])](a_list[i])\n",
    "            l_list[i] = copy(l′_list[i])\n",
    "            l′_list[i] = discrete_prob(Q[Int(l_list[i]),:])\n",
    "            a_list[i] = copy(a′_list[i])\n",
    "        end\n",
    "        m′ = mean(a_list)\n",
    "        sup = abs(m-m′)\n",
    "    end\n",
    "    for i in 1:N\n",
    "        a′_list[i] = pol[Int(l′_list[i])](a_list[i])\n",
    "    end\n",
    "    w = A * (1 - α) * (A * α / (r + δ))^(α / (1 - α))\n",
    "    c_list = w .* l′_list .+ (1+r) .* a_list .- a′_list\n",
    "    ni_list = w .* l′_list .+ r .* a_list\n",
    "    gi_list = ni_list .+ (δ .* a_list)\n",
    "    gs_list = gi_list .- c_list\n",
    "    return a′_list, c_list, ni_list, gi_list, gs_list\n",
    "end"
   ]
  },
  {
   "cell_type": "code",
   "execution_count": 15,
   "id": "72a826bc",
   "metadata": {},
   "outputs": [],
   "source": [
    "r = 0.06356810470771929\n",
    "ρ = 0.3\n",
    "σ = 0.2\n",
    "μ = 1\n",
    "out1 = Outputs(r, ρ, σ, μ);"
   ]
  },
  {
   "cell_type": "code",
   "execution_count": 16,
   "id": "a756e5ab",
   "metadata": {},
   "outputs": [],
   "source": [
    "r = 0.061983965613076716\n",
    "ρ = 0.3\n",
    "σ = 0.2\n",
    "μ = 3\n",
    "out2 = Outputs(r, ρ, σ, μ);"
   ]
  },
  {
   "cell_type": "code",
   "execution_count": 17,
   "id": "78b0e81a",
   "metadata": {},
   "outputs": [],
   "source": [
    "r = 0.06022965204267519\n",
    "ρ = 0.3\n",
    "σ = 0.2\n",
    "μ = 5\n",
    "out3 = Outputs(r, ρ, σ, μ);"
   ]
  },
  {
   "cell_type": "code",
   "execution_count": null,
   "id": "030ae663",
   "metadata": {},
   "outputs": [],
   "source": []
  },
  {
   "cell_type": "code",
   "execution_count": 18,
   "id": "4bda540e",
   "metadata": {},
   "outputs": [],
   "source": [
    "r = 0.06331203579276941\n",
    "ρ = 0.6\n",
    "σ = 0.2\n",
    "μ = 1\n",
    "out4 = Outputs(r, ρ, σ, μ);"
   ]
  },
  {
   "cell_type": "code",
   "execution_count": 19,
   "id": "bb0c0d73",
   "metadata": {},
   "outputs": [],
   "source": [
    "r = 0.06078151500129067\n",
    "ρ = 0.6\n",
    "σ = 0.2\n",
    "μ = 3\n",
    "out5 = Outputs(r, ρ, σ, μ);"
   ]
  },
  {
   "cell_type": "code",
   "execution_count": 20,
   "id": "4deaa424",
   "metadata": {},
   "outputs": [],
   "source": [
    "r = 0.056729966833464866\n",
    "ρ = 0.6\n",
    "σ = 0.2\n",
    "μ = 5\n",
    "out6 = Outputs(r, ρ, σ, μ);"
   ]
  },
  {
   "cell_type": "code",
   "execution_count": null,
   "id": "56888d57",
   "metadata": {},
   "outputs": [],
   "source": []
  },
  {
   "cell_type": "code",
   "execution_count": 21,
   "id": "55c51910",
   "metadata": {},
   "outputs": [],
   "source": [
    "r = 0.06041760269564426\n",
    "ρ = 0.9\n",
    "σ = 0.2\n",
    "μ = 1\n",
    "out7 = Outputs(r, ρ, σ, μ);"
   ]
  },
  {
   "cell_type": "code",
   "execution_count": 22,
   "id": "5ccae1a6",
   "metadata": {},
   "outputs": [],
   "source": [
    "r = 0.045795974998536486\n",
    "ρ = 0.9\n",
    "σ = 0.2\n",
    "μ = 3\n",
    "out8 = Outputs(r, ρ, σ, μ);"
   ]
  },
  {
   "cell_type": "code",
   "execution_count": 23,
   "id": "8ebfdaf0",
   "metadata": {},
   "outputs": [],
   "source": [
    "r = 0.03351000131012986\n",
    "ρ = 0.9\n",
    "σ = 0.2\n",
    "μ = 5\n",
    "out9 = Outputs(r, ρ, σ, μ);"
   ]
  },
  {
   "cell_type": "code",
   "execution_count": null,
   "id": "4dc334e6",
   "metadata": {},
   "outputs": [],
   "source": []
  },
  {
   "cell_type": "code",
   "execution_count": 24,
   "id": "431a7bbd",
   "metadata": {},
   "outputs": [],
   "source": [
    "r = 0.06310072134909493\n",
    "ρ = 0.3\n",
    "σ = 0.4\n",
    "μ = 1\n",
    "out10 = Outputs(r, ρ, σ, μ);"
   ]
  },
  {
   "cell_type": "code",
   "execution_count": 25,
   "id": "04ebd447",
   "metadata": {},
   "outputs": [],
   "source": [
    "r = 0.05895751525472953\n",
    "ρ = 0.3\n",
    "σ = 0.4\n",
    "μ = 3\n",
    "out11 = Outputs(r, ρ, σ, μ);"
   ]
  },
  {
   "cell_type": "code",
   "execution_count": 26,
   "id": "dd6f363c",
   "metadata": {},
   "outputs": [],
   "source": [
    "r = 0.0530557943684963\n",
    "ρ = 0.3\n",
    "σ = 0.4\n",
    "μ = 5\n",
    "out12 = Outputs(r, ρ, σ, μ);"
   ]
  },
  {
   "cell_type": "code",
   "execution_count": null,
   "id": "93e91ae6",
   "metadata": {},
   "outputs": [],
   "source": []
  },
  {
   "cell_type": "code",
   "execution_count": 27,
   "id": "05d6ed3e",
   "metadata": {},
   "outputs": [],
   "source": [
    "r = 0.06206864945041453\n",
    "ρ = 0.6\n",
    "σ = 0.4\n",
    "μ = 1\n",
    "out13 = Outputs(r, ρ, σ, μ);"
   ]
  },
  {
   "cell_type": "code",
   "execution_count": 28,
   "id": "faa02a09",
   "metadata": {},
   "outputs": [],
   "source": [
    "r = 0.05243338701469502\n",
    "ρ = 0.6\n",
    "σ = 0.4\n",
    "μ = 3\n",
    "out14 = Outputs(r, ρ, σ, μ);"
   ]
  },
  {
   "cell_type": "code",
   "execution_count": 29,
   "id": "98efb2fb",
   "metadata": {},
   "outputs": [],
   "source": [
    "r = 0.042505217973194176\n",
    "ρ = 0.6\n",
    "σ = 0.4\n",
    "μ = 5\n",
    "out15 = Outputs(r, ρ, σ, μ);"
   ]
  },
  {
   "cell_type": "code",
   "execution_count": null,
   "id": "c4d77728",
   "metadata": {},
   "outputs": [],
   "source": []
  },
  {
   "cell_type": "code",
   "execution_count": 30,
   "id": "8044623d",
   "metadata": {},
   "outputs": [],
   "source": [
    "r = 0.05483499808375618\n",
    "ρ = 0.9\n",
    "σ = 0.4\n",
    "μ = 1\n",
    "out16 = Outputs(r, ρ, σ, μ);"
   ]
  },
  {
   "cell_type": "code",
   "execution_count": 31,
   "id": "d08c4acc",
   "metadata": {},
   "outputs": [],
   "source": [
    "r = 0.03217176040840679\n",
    "ρ = 0.9\n",
    "σ = 0.4\n",
    "μ = 3\n",
    "out17 = Outputs(r, ρ, σ, μ);"
   ]
  },
  {
   "cell_type": "code",
   "execution_count": 32,
   "id": "8de77e9c",
   "metadata": {},
   "outputs": [],
   "source": [
    "r = 0.023184794983528555\n",
    "ρ = 0.9\n",
    "σ = 0.4\n",
    "μ = 5\n",
    "out18 = Outputs(r, ρ, σ, μ);"
   ]
  },
  {
   "cell_type": "code",
   "execution_count": 45,
   "id": "e4f194ef",
   "metadata": {},
   "outputs": [
    {
     "data": {
      "text/plain": [
       "CV (generic function with 1 method)"
      ]
     },
     "execution_count": 45,
     "metadata": {},
     "output_type": "execute_result"
    }
   ],
   "source": [
    "# calculate Coefficient of variation\n",
    "function CV(data)\n",
    "    cv_a  = round(std(data[1]) / mean(data[1]),digits = 3)\n",
    "    cv_c  = round(std(data[2]) / mean(data[2]),digits = 3)\n",
    "    cv_ni = round(std(data[3]) / mean(data[3]),digits = 3)\n",
    "    cv_gi = round(std(data[4]) / mean(data[4]),digits = 3)\n",
    "    cv_gs = round(std(data[5]) / mean(data[5]),digits = 3)\n",
    "    \n",
    "   return  cv_c, cv_ni, cv_gi, cv_gs, cv_a\n",
    "end"
   ]
  },
  {
   "cell_type": "code",
   "execution_count": 65,
   "id": "4856e759",
   "metadata": {},
   "outputs": [
    {
     "name": "stdout",
     "output_type": "stream",
     "text": [
      " (consumption, net income, gross income, gross saving, assets)\n"
     ]
    }
   ],
   "source": [
    "println(\" (consumption, net income, gross income, gross saving, assets)\")"
   ]
  },
  {
   "cell_type": "code",
   "execution_count": 46,
   "id": "6e9e02c3",
   "metadata": {},
   "outputs": [
    {
     "data": {
      "text/plain": [
       "(0.196, 0.239, 0.223, 0.484, 0.388)"
      ]
     },
     "execution_count": 46,
     "metadata": {},
     "output_type": "execute_result"
    }
   ],
   "source": [
    "CV(out1)"
   ]
  },
  {
   "cell_type": "code",
   "execution_count": 47,
   "id": "6867a9e9",
   "metadata": {},
   "outputs": [
    {
     "data": {
      "text/plain": [
       "(0.201, 0.244, 0.238, 0.641, 0.545)"
      ]
     },
     "execution_count": 47,
     "metadata": {},
     "output_type": "execute_result"
    }
   ],
   "source": [
    "CV(out2)"
   ]
  },
  {
   "cell_type": "code",
   "execution_count": 48,
   "id": "1cee800a",
   "metadata": {},
   "outputs": [
    {
     "data": {
      "text/plain": [
       "(0.198, 0.242, 0.227, 0.527, 0.406)"
      ]
     },
     "execution_count": 48,
     "metadata": {},
     "output_type": "execute_result"
    }
   ],
   "source": [
    "CV(out3)"
   ]
  },
  {
   "cell_type": "code",
   "execution_count": null,
   "id": "bad95360",
   "metadata": {},
   "outputs": [],
   "source": []
  },
  {
   "cell_type": "code",
   "execution_count": 49,
   "id": "7c697744",
   "metadata": {},
   "outputs": [
    {
     "data": {
      "text/plain": [
       "(0.202, 0.251, 0.246, 0.688, 0.535)"
      ]
     },
     "execution_count": 49,
     "metadata": {},
     "output_type": "execute_result"
    }
   ],
   "source": [
    "CV(out4)"
   ]
  },
  {
   "cell_type": "code",
   "execution_count": 50,
   "id": "a1deb99c",
   "metadata": {},
   "outputs": [
    {
     "data": {
      "text/plain": [
       "(0.206, 0.251, 0.248, 0.672, 0.554)"
      ]
     },
     "execution_count": 50,
     "metadata": {},
     "output_type": "execute_result"
    }
   ],
   "source": [
    "CV(out5)"
   ]
  },
  {
   "cell_type": "code",
   "execution_count": 51,
   "id": "af414535",
   "metadata": {},
   "outputs": [
    {
     "data": {
      "text/plain": [
       "(0.203, 0.251, 0.244, 0.644, 0.499)"
      ]
     },
     "execution_count": 51,
     "metadata": {},
     "output_type": "execute_result"
    }
   ],
   "source": [
    "CV(out6)"
   ]
  },
  {
   "cell_type": "code",
   "execution_count": null,
   "id": "5b6730ff",
   "metadata": {},
   "outputs": [],
   "source": []
  },
  {
   "cell_type": "code",
   "execution_count": 52,
   "id": "e25e20a9",
   "metadata": {},
   "outputs": [
    {
     "data": {
      "text/plain": [
       "(0.26, 0.296, 0.311, 0.802, 0.658)"
      ]
     },
     "execution_count": 52,
     "metadata": {},
     "output_type": "execute_result"
    }
   ],
   "source": [
    "CV(out7)"
   ]
  },
  {
   "cell_type": "code",
   "execution_count": 53,
   "id": "87b625de",
   "metadata": {},
   "outputs": [
    {
     "data": {
      "text/plain": [
       "(0.256, 0.291, 0.296, 0.651, 0.51)"
      ]
     },
     "execution_count": 53,
     "metadata": {},
     "output_type": "execute_result"
    }
   ],
   "source": [
    "CV(out8)"
   ]
  },
  {
   "cell_type": "code",
   "execution_count": 54,
   "id": "1ecf0e19",
   "metadata": {},
   "outputs": [
    {
     "data": {
      "text/plain": [
       "(0.258, 0.288, 0.281, 0.501, 0.376)"
      ]
     },
     "execution_count": 54,
     "metadata": {},
     "output_type": "execute_result"
    }
   ],
   "source": [
    "CV(out9)"
   ]
  },
  {
   "cell_type": "code",
   "execution_count": null,
   "id": "dc4f2bee",
   "metadata": {},
   "outputs": [],
   "source": []
  },
  {
   "cell_type": "code",
   "execution_count": 55,
   "id": "118b3a10",
   "metadata": {},
   "outputs": [
    {
     "data": {
      "text/plain": [
       "(0.16, 0.246, 0.238, 0.96, 0.511)"
      ]
     },
     "execution_count": 55,
     "metadata": {},
     "output_type": "execute_result"
    }
   ],
   "source": [
    "CV(out10)"
   ]
  },
  {
   "cell_type": "code",
   "execution_count": 56,
   "id": "ae906c6a",
   "metadata": {},
   "outputs": [
    {
     "data": {
      "text/plain": [
       "(0.159, 0.244, 0.235, 0.913, 0.485)"
      ]
     },
     "execution_count": 56,
     "metadata": {},
     "output_type": "execute_result"
    }
   ],
   "source": [
    "CV(out11)"
   ]
  },
  {
   "cell_type": "code",
   "execution_count": 57,
   "id": "576ea4ea",
   "metadata": {},
   "outputs": [
    {
     "data": {
      "text/plain": [
       "(0.159, 0.245, 0.232, 0.875, 0.437)"
      ]
     },
     "execution_count": 57,
     "metadata": {},
     "output_type": "execute_result"
    }
   ],
   "source": [
    "CV(out12)"
   ]
  },
  {
   "cell_type": "code",
   "execution_count": null,
   "id": "56c13724",
   "metadata": {},
   "outputs": [],
   "source": []
  },
  {
   "cell_type": "code",
   "execution_count": 58,
   "id": "1e58079a",
   "metadata": {},
   "outputs": [
    {
     "data": {
      "text/plain": [
       "(0.177, 0.256, 0.257, 1.04, 0.56)"
      ]
     },
     "execution_count": 58,
     "metadata": {},
     "output_type": "execute_result"
    }
   ],
   "source": [
    "CV(out13)"
   ]
  },
  {
   "cell_type": "code",
   "execution_count": 59,
   "id": "e8d4cd60",
   "metadata": {},
   "outputs": [
    {
     "data": {
      "text/plain": [
       "(0.177, 0.255, 0.251, 0.953, 0.493)"
      ]
     },
     "execution_count": 59,
     "metadata": {},
     "output_type": "execute_result"
    }
   ],
   "source": [
    "CV(out14)"
   ]
  },
  {
   "cell_type": "code",
   "execution_count": 60,
   "id": "93fba1e0",
   "metadata": {},
   "outputs": [
    {
     "data": {
      "text/plain": [
       "(0.178, 0.256, 0.244, 0.834, 0.392)"
      ]
     },
     "execution_count": 60,
     "metadata": {},
     "output_type": "execute_result"
    }
   ],
   "source": [
    "CV(out15)"
   ]
  },
  {
   "cell_type": "code",
   "execution_count": null,
   "id": "a6c91033",
   "metadata": {},
   "outputs": [],
   "source": []
  },
  {
   "cell_type": "code",
   "execution_count": 61,
   "id": "98f8f0e9",
   "metadata": {},
   "outputs": [
    {
     "data": {
      "text/plain": [
       "(0.268, 0.303, 0.323, 1.011, 0.643)"
      ]
     },
     "execution_count": 61,
     "metadata": {},
     "output_type": "execute_result"
    }
   ],
   "source": [
    "CV(out16)"
   ]
  },
  {
   "cell_type": "code",
   "execution_count": 62,
   "id": "deee6af1",
   "metadata": {},
   "outputs": [
    {
     "data": {
      "text/plain": [
       "(0.26, 0.289, 0.285, 0.628, 0.375)"
      ]
     },
     "execution_count": 62,
     "metadata": {},
     "output_type": "execute_result"
    }
   ],
   "source": [
    "CV(out17)"
   ]
  },
  {
   "cell_type": "code",
   "execution_count": 63,
   "id": "7c13bc73",
   "metadata": {
    "scrolled": true
   },
   "outputs": [
    {
     "data": {
      "text/plain": [
       "(0.265, 0.285, 0.265, 0.42, 0.238)"
      ]
     },
     "execution_count": 63,
     "metadata": {},
     "output_type": "execute_result"
    }
   ],
   "source": [
    "CV(out18)"
   ]
  },
  {
   "cell_type": "code",
   "execution_count": null,
   "id": "4b2ff9b2",
   "metadata": {},
   "outputs": [],
   "source": []
  }
 ],
 "metadata": {
  "kernelspec": {
   "display_name": "Julia 1.7.2",
   "language": "julia",
   "name": "julia-1.7"
  },
  "language_info": {
   "file_extension": ".jl",
   "mimetype": "application/julia",
   "name": "julia",
   "version": "1.7.2"
  },
  "toc": {
   "base_numbering": 1,
   "nav_menu": {},
   "number_sections": true,
   "sideBar": true,
   "skip_h1_title": false,
   "title_cell": "Table of Contents",
   "title_sidebar": "Contents",
   "toc_cell": false,
   "toc_position": {},
   "toc_section_display": true,
   "toc_window_display": false
  }
 },
 "nbformat": 4,
 "nbformat_minor": 5
}
